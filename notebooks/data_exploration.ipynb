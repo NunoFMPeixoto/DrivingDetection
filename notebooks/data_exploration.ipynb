{
 "cells": [
  {
   "cell_type": "code",
   "execution_count": null,
   "metadata": {},
   "outputs": [],
   "source": [
    "import pandas as pd\n",
    "from pathlib import Path\n"
   ]
  },
  {
   "cell_type": "code",
   "execution_count": null,
   "metadata": {},
   "outputs": [],
   "source": [
    "dataroot_img = Path('./../data/raw/nuimages-v1.0-mini')\n",
    "dataroot_lidar = Path('./../data/raw/nuScenes-panoptic-v1.0-mini')"
   ]
  },
  {
   "cell_type": "code",
   "execution_count": null,
   "metadata": {},
   "outputs": [],
   "source": [
    "import torch\n",
    "from torch import nn # nn contains all of PyTorch's building blocks for neural networks\n",
    "import matplotlib.pyplot as plt"
   ]
  },
  {
   "cell_type": "code",
   "execution_count": null,
   "metadata": {},
   "outputs": [],
   "source": [
    "device = \"cuda\" if torch.cuda.is_available() else \"cpu\"\n"
   ]
  },
  {
   "cell_type": "code",
   "execution_count": null,
   "metadata": {},
   "outputs": [],
   "source": [
    "dinov2_vitg14_reg = torch.hub.load('facebookresearch/dinov2', 'dinov2_vitg14_reg')\n",
    "dinov2_vitg14_reg.eval()"
   ]
  },
  {
   "cell_type": "code",
   "execution_count": null,
   "metadata": {},
   "outputs": [],
   "source": [
    "from torchvision import transforms\n",
    "\n",
    "image_transforms = transforms.Compose([\n",
    "    transforms.Resize(256, interpolation=transforms.InterpolationMode.BICUBIC),\n",
    "    transforms.CenterCrop(224),\n",
    "    transforms.ToTensor(),\n",
    "    transforms.Normalize(mean=(0.485, 0.456, 0.406), std=(0.229, 0.224, 0.225)),\n",
    "])"
   ]
  },
  {
   "cell_type": "code",
   "execution_count": null,
   "metadata": {},
   "outputs": [],
   "source": [
    "import torchinfo \n",
    "from torchinfo import summary\n",
    "\n",
    "# summary(dinov2_vitg14_reg,\n",
    "#         input_size = image_transforms(img).size(),\n",
    "#         col_names=[\"num_params\", \"trainable\"],\n",
    "#         )\n",
    "\n",
    "summary_list = summary(dinov2_vitg14_reg,\n",
    "        col_names=[\"num_params\", \"trainable\"],\n",
    "        )\n",
    "summary_list"
   ]
  },
  {
   "cell_type": "code",
   "execution_count": null,
   "metadata": {},
   "outputs": [],
   "source": [
    "next(dinov2_vitg14_reg.parameters())"
   ]
  },
  {
   "cell_type": "code",
   "execution_count": null,
   "metadata": {},
   "outputs": [],
   "source": [
    "from PIL import Image\n",
    "\n",
    "# 2. Open image\n",
    "img = Image.open(dataroot_img/'samples/CAM_BACK/n003-2018-01-03-12-03-23+0800__CAM_BACK__1514952316316487.jpg')\n",
    "img = image_transforms(img).unsqueeze(0)  # Add batch dimension"
   ]
  },
  {
   "cell_type": "code",
   "execution_count": null,
   "metadata": {},
   "outputs": [],
   "source": [
    "# Perform inference\n",
    "with torch.no_grad():\n",
    "    outputs = dinov2_vitg14_reg(img)"
   ]
  },
  {
   "cell_type": "code",
   "execution_count": null,
   "metadata": {},
   "outputs": [],
   "source": [
    "# Since DINOv2 is primarily for feature extraction, it doesn't provide direct segmentation\n",
    "# You might need additional steps to derive segmentation from the features\n",
    "features = outputs[0]"
   ]
  },
  {
   "cell_type": "code",
   "execution_count": null,
   "metadata": {},
   "outputs": [],
   "source": [
    "# For classification, assuming a linear layer on top of the extracted features\n",
    "# Replace this with your classification head if you have a different setup\n",
    "classifier = torch.nn.Linear(features.shape[1], 6)  # num_classes is the number of classes in your dataset\n",
    "classification_logits = classifier(features)\n",
    "\n",
    "# Post-process the classification output\n",
    "classification_scores = torch.nn.functional.softmax(classification_logits, dim=1)\n",
    "\n",
    "# Convert to numpy arrays or other formats as needed\n",
    "classification_scores = classification_scores.numpy()\n",
    "\n",
    "# Process these outputs as needed for your application"
   ]
  },
  {
   "cell_type": "code",
   "execution_count": null,
   "metadata": {},
   "outputs": [],
   "source": [
    "res_img = dinov2_vitg14_reg(img).detach().numpy()"
   ]
  },
  {
   "cell_type": "code",
   "execution_count": null,
   "metadata": {},
   "outputs": [],
   "source": [
    "dinov2_vitg14_reg(image_transforms(img).unsqueeze(0)).size()"
   ]
  },
  {
   "cell_type": "code",
   "execution_count": null,
   "metadata": {},
   "outputs": [],
   "source": [
    "res_img.size"
   ]
  },
  {
   "cell_type": "code",
   "execution_count": null,
   "metadata": {},
   "outputs": [],
   "source": [
    "new = Image.open(dinov2_vitg14_reg(image_transforms(img).unsqueeze(0)).detach().numpy())"
   ]
  },
  {
   "cell_type": "code",
   "execution_count": null,
   "metadata": {},
   "outputs": [],
   "source": [
    "import math\n",
    "math.sqrt(1536)"
   ]
  },
  {
   "cell_type": "code",
   "execution_count": null,
   "metadata": {},
   "outputs": [],
   "source": [
    "import torch\n",
    "import requests\n",
    "from pathlib import Path\n",
    "\n",
    "# Import dinov2 backbone\n",
    "dinov2_vitl14_reg = torch.hub.load('facebookresearch/dinov2', 'dinov2_vitl14_reg')\n",
    "\n",
    "# Import pretrained head for depth estimation\n",
    "head_path = './../models/dinov2/dinov2_vitl14_kitti_dpt_head.pth'\n",
    "if not Path(head_path).exists():\n",
    "    request = requests.get('https://dl.fbaipublicfiles.com/dinov2/dinov2_vitl14/dinov2_vitl14_kitti_dpt_head.pth')\n",
    "    with open(\"./../models/dinov2/dinov2_vitl14_kitti_dpt_head.pth\", \"wb\") as f:\n",
    "        f.write(request.content)"
   ]
  }
 ],
 "metadata": {
  "kernelspec": {
   "display_name": ".venv",
   "language": "python",
   "name": "python3"
  },
  "language_info": {
   "codemirror_mode": {
    "name": "ipython",
    "version": 3
   },
   "file_extension": ".py",
   "mimetype": "text/x-python",
   "name": "python",
   "nbconvert_exporter": "python",
   "pygments_lexer": "ipython3",
   "version": "3.11.6"
  }
 },
 "nbformat": 4,
 "nbformat_minor": 2
}
